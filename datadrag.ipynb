{
 "cells": [
  {
   "cell_type": "code",
   "execution_count": 1,
   "metadata": {},
   "outputs": [],
   "source": [
    "import baostock as bs\n",
    "import pandas as pd"
   ]
  },
  {
   "cell_type": "code",
   "execution_count": 2,
   "metadata": {},
   "outputs": [
    {
     "name": "stdout",
     "output_type": "stream",
     "text": [
      "login success!\n"
     ]
    }
   ],
   "source": [
    "# 登录系统\n",
    "lg = bs.login()"
   ]
  },
  {
   "cell_type": "markdown",
   "metadata": {},
   "source": [
    "# 筛选高波动、且具有上行空间的股票"
   ]
  },
  {
   "cell_type": "code",
   "execution_count": 36,
   "metadata": {},
   "outputs": [
    {
     "name": "stdout",
     "output_type": "stream",
     "text": [
      "login success!\n",
      "logout success!\n"
     ]
    },
    {
     "data": {
      "text/plain": [
       "<baostock.data.resultset.ResultData at 0x28bfdda0ac0>"
      ]
     },
     "execution_count": 36,
     "metadata": {},
     "output_type": "execute_result"
    }
   ],
   "source": [
    "# 登录Baostock\n",
    "bs.login()\n",
    "\n",
    "# 获取所有A股股票列表\n",
    "stock_rs = bs.query_all_stock(day=\"2023-11-10\")\n",
    "stock_df = stock_rs.get_data()\n",
    "\n",
    "# 剔除北交所和创业板股票\n",
    "stock_df = stock_df[~stock_df['code'].str.startswith(('bj', 'sz.3'))]\n",
    "\n",
    "# 退出Baostock\n",
    "bs.logout()"
   ]
  },
  {
   "cell_type": "code",
   "execution_count": 39,
   "metadata": {},
   "outputs": [
    {
     "name": "stdout",
     "output_type": "stream",
     "text": [
      "229     sh.000001\n",
      "230     sh.000002\n",
      "231     sh.000003\n",
      "232     sh.000004\n",
      "233     sh.000005\n",
      "          ...    \n",
      "4193    sz.003040\n",
      "4194    sz.003041\n",
      "4195    sz.003042\n",
      "4196    sz.003043\n",
      "4197    sz.003816\n",
      "Name: code, Length: 3969, dtype: object\n",
      "229     sh.000001\n",
      "230     sh.000002\n",
      "231     sh.000003\n",
      "232     sh.000004\n",
      "233     sh.000005\n",
      "          ...    \n",
      "4193    sz.003040\n",
      "4194    sz.003041\n",
      "4195    sz.003042\n",
      "4196    sz.003043\n",
      "4197    sz.003816\n",
      "Name: code, Length: 3969, dtype: object\n"
     ]
    }
   ],
   "source": [
    "print(stock_df['code'])\n",
    "print(stock_df['code'])"
   ]
  },
  {
   "cell_type": "code",
   "execution_count": 40,
   "metadata": {},
   "outputs": [
    {
     "name": "stdout",
     "output_type": "stream",
     "text": [
      "login success!\n",
      "logout success!\n"
     ]
    },
    {
     "data": {
      "text/plain": [
       "<baostock.data.resultset.ResultData at 0x28bfaaced60>"
      ]
     },
     "execution_count": 40,
     "metadata": {},
     "output_type": "execute_result"
    }
   ],
   "source": [
    "from datetime import datetime, timedelta\n",
    "\n",
    "# 设置日期范围\n",
    "end_date = datetime.today().strftime('%Y-%m-%d')\n",
    "start_date = (datetime.today() - timedelta(days=30)).strftime('%Y-%m-%d')\n",
    "\n",
    "# 登录Baostock\n",
    "bs.login()\n",
    "\n",
    "# 创建一个空的DataFrame用于存储结果\n",
    "selected_stocks = pd.DataFrame(dict.fromkeys(['code', 'monthly_volatility', 'recent_volatility_increase'],[]))\n",
    "\n",
    "for stock in stock_df['code']:\n",
    "    # 获取股票日K线数据\n",
    "    k_rs = bs.query_history_k_data_plus(stock, \"date,close\",\n",
    "                                        start_date=start_date, end_date=end_date,\n",
    "                                        frequency=\"d\", adjustflag=\"3\")\n",
    "    k_data = k_rs.get_data()\n",
    "    \n",
    "    # 检查'close'列是否存在\n",
    "    if 'close' in k_data.columns:\n",
    "    # 计算日收益率\n",
    "        k_data['close'] = k_data['close'].astype(float)\n",
    "        k_data['daily_return'] = k_data['close'].pct_change()\n",
    "\n",
    "        # 计算近一个月的波动率\n",
    "        monthly_volatility = k_data['daily_return'].std() * (252**0.5)  # 年化波动率\n",
    "\n",
    "        # 计算近3天波动率\n",
    "        recent_volatility = k_data['daily_return'][-3:].std() * (252**0.5)  # 年化波动率\n",
    "\n",
    "        # 判断近3天的波动是否显著大于近一个月的波动\n",
    "        if recent_volatility > 1.5 * monthly_volatility:\n",
    "            selected_stocks.loc[len(selected_stocks)]=[stock, monthly_volatility, True]\n",
    "    else:\n",
    "        # 如果不存在'close'列，可能需要记录下来或采取其他措施\n",
    "        print(f\"Data for stock {stock} does not have 'close' column.\")\n",
    "\n",
    "# 退出Baostock\n",
    "bs.logout()"
   ]
  },
  {
   "cell_type": "code",
   "execution_count": 41,
   "metadata": {},
   "outputs": [
    {
     "name": "stdout",
     "output_type": "stream",
     "text": [
      "          code  monthly_volatility  recent_volatility_increase\n",
      "177  sz.002855            1.172487                        True\n",
      "65   sh.603496            1.050614                        True\n",
      "53   sh.603158            1.037994                        True\n",
      "181  sz.002931            1.020544                        True\n",
      "49   sh.603003            0.983502                        True\n",
      "..         ...                 ...                         ...\n",
      "48   sh.601929            0.198454                        True\n",
      "136  sz.002005            0.195715                        True\n",
      "139  sz.002102            0.180053                        True\n",
      "170  sz.002726            0.176094                        True\n",
      "0    sh.000012            0.004660                        True\n",
      "\n",
      "[184 rows x 3 columns]\n"
     ]
    }
   ],
   "source": [
    "print(selected_stocks.sort_values(by=\"monthly_volatility\",ascending=False))"
   ]
  },
  {
   "cell_type": "code",
   "execution_count": 5,
   "metadata": {},
   "outputs": [
    {
     "name": "stdout",
     "output_type": "stream",
     "text": [
      "logout success!\n"
     ]
    }
   ],
   "source": [
    "# 获取历史K线数据\n",
    "stock_code = \"sh.600000\"  # 示例股票代码\n",
    "start_date = '2020-01-01'\n",
    "end_date = '2020-12-31'\n",
    "data_list = []\n",
    "\n",
    "rs = bs.query_history_k_data_plus(stock_code,\n",
    "    \"date,code,open,high,low,close,preclose,volume,amount,adjustflag,turn,tradestatus,pctChg,peTTM,pbMRQ,psTTM,pcfNcfTTM,isST\",\n",
    "    start_date=start_date, end_date=end_date,\n",
    "    frequency=\"d\", adjustflag=\"3\")\n",
    "\n",
    "while (rs.error_code == '0') & rs.next():\n",
    "    # 将数据添加到列表中\n",
    "    data_list.append(rs.get_row_data())\n",
    "\n",
    "# 转换为 DataFrame\n",
    "data_df = pd.DataFrame(data_list, columns=rs.fields)\n",
    "\n",
    "# 登出系统\n",
    "bs.logout()\n",
    "\n",
    "data_df.to_csv('stock_data.csv', index=False)"
   ]
  }
 ],
 "metadata": {
  "interpreter": {
   "hash": "fa8fb4ab092f918385b1a61a5dbd2cab5ddd3b84cec1c64fc768df142641adc7"
  },
  "kernelspec": {
   "display_name": "Python 3.8.17 ('py38')",
   "language": "python",
   "name": "python3"
  },
  "language_info": {
   "codemirror_mode": {
    "name": "ipython",
    "version": 3
   },
   "file_extension": ".py",
   "mimetype": "text/x-python",
   "name": "python",
   "nbconvert_exporter": "python",
   "pygments_lexer": "ipython3",
   "version": "3.8.17"
  },
  "orig_nbformat": 4
 },
 "nbformat": 4,
 "nbformat_minor": 2
}
